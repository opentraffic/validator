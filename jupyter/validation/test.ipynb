{
 "cells": [
  {
   "cell_type": "code",
   "execution_count": 2,
   "metadata": {
    "collapsed": false,
    "deletable": true,
    "editable": true
   },
   "outputs": [
    {
     "name": "stdout",
     "output_type": "stream",
     "text": [
      "Building tile config...\n",
      "Starting validation processor with 4 threads\n"
     ]
    }
   ],
   "source": [
    "import os\n",
    "import matcher\n",
    "import json\n",
    "\n",
    "# set location for tiles\n",
    "tile_dir = \"/data/tiles/manila/\"\n",
    "\n",
    "# create a matcher object\n",
    "matcher = matcher.Matcher(tile_dir)"
   ]
  },
  {
   "cell_type": "code",
   "execution_count": 3,
   "metadata": {
    "collapsed": false,
    "deletable": true,
    "editable": true
   },
   "outputs": [],
   "source": [
    "# single json test trace\n",
    "trace = '{\"uuid\":\"100897\",\"trace\":[{\"lat\":14.644023,\"lon\":121.037483,\"time\":1451646752},{\"lat\":14.643991,\"lon\":121.037793,\"time\":1451665098},{\"lat\":14.644001,\"lon\":121.037781,\"time\":1451665113},{\"lat\":14.644001,\"lon\":121.037781,\"time\":1451665128},{\"lat\":14.644001,\"lon\":121.037781,\"time\":1451665143},{\"lat\":14.644123,\"lon\":121.037843,\"time\":1451665158},{\"lat\":14.644123,\"lon\":121.037843,\"time\":1451665174},{\"lat\":14.644123,\"lon\":121.037843,\"time\":1451665188},{\"lat\":14.644123,\"lon\":121.037843,\"time\":1451665203},{\"lat\":14.644123,\"lon\":121.037843,\"time\":1451665218},{\"lat\":14.644123,\"lon\":121.037843,\"time\":1451665233},{\"lat\":14.644123,\"lon\":121.037843,\"time\":1451665248},{\"lat\":14.644123,\"lon\":121.037843,\"time\":1451665263},{\"lat\":14.644123,\"lon\":121.037843,\"time\":1451665278},{\"lat\":14.642106,\"lon\":121.033941,\"time\":1451665295},{\"lat\":14.64067,\"lon\":121.031611,\"time\":1451665309},{\"lat\":14.639528,\"lon\":121.029794,\"time\":1451665324},{\"lat\":14.638004,\"lon\":121.02732,\"time\":1451665338},{\"lat\":14.637313,\"lon\":121.026213,\"time\":1451665353},{\"lat\":14.637313,\"lon\":121.026213,\"time\":1451665368},{\"lat\":14.637313,\"lon\":121.026213,\"time\":1451665383},{\"lat\":14.637314,\"lon\":121.026216,\"time\":1451665399},{\"lat\":14.637314,\"lon\":121.026216,\"time\":1451665414},{\"lat\":14.637314,\"lon\":121.026216,\"time\":1451665428},{\"lat\":14.637314,\"lon\":121.026216,\"time\":1451665444},{\"lat\":14.637314,\"lon\":121.026216,\"time\":1451665458},{\"lat\":14.637314,\"lon\":121.026216,\"time\":1451665473},{\"lat\":14.632881,\"lon\":121.019016,\"time\":1451665488},{\"lat\":14.631711,\"lon\":121.017173,\"time\":1451665506},{\"lat\":14.630126,\"lon\":121.015193,\"time\":1451665518},{\"lat\":14.628985,\"lon\":121.013934,\"time\":1451665537},{\"lat\":14.627323,\"lon\":121.0121,\"time\":1451665550},{\"lat\":14.62545,\"lon\":121.010034,\"time\":1451665564},{\"lat\":14.624121,\"lon\":121.008513,\"time\":1451665578},{\"lat\":14.622851,\"lon\":121.007081,\"time\":1451665594},{\"lat\":14.621214,\"lon\":121.005306,\"time\":1451665608},{\"lat\":14.620333,\"lon\":121.0042,\"time\":1451665624},{\"lat\":14.64456,\"lon\":121.037153,\"time\":1451668996}]}'\n",
    "\n",
    "# process trace syncrhonously\n",
    "processed_trace = matcher.process_trace(trace)\n",
    "\n"
   ]
  },
  {
   "cell_type": "code",
   "execution_count": 4,
   "metadata": {
    "collapsed": false,
    "deletable": true,
    "editable": true
   },
   "outputs": [
    {
     "name": "stdout",
     "output_type": "stream",
     "text": [
      "UUID: 100897\n",
      "171496721272: 104.31 km/h\n",
      "111736277880: 104.35 km/h\n",
      "193609091960: 104.35 km/h\n",
      "187569294200: 85.32 km/h\n",
      "164450290552: 70.85 km/h\n",
      "71303187320: 65.75 km/h\n",
      "72544701304: 7.77 km/h\n",
      "69189258104: 220.69 km/h\n",
      "186361334648: 220.65 km/h\n",
      "182938782584: 220.8 km/h\n",
      "106401123192: 158.45 km/h\n",
      "72611810168: 47.39 km/h\n",
      "93683993464: 65.37 km/h\n",
      "107843963768: 61.22 km/h\n",
      "94791289720: 72.37 km/h\n",
      "163208776568: 56.88 km/h\n",
      "189783886712: 56.9 km/h\n",
      "105360935800: 51.39 km/h\n",
      "166396447608: 52.92 km/h\n",
      "72645364600: 67.87 km/h\n"
     ]
    }
   ],
   "source": [
    "# print  results\n",
    "\n",
    "print \"UUID: \" + processed_trace['uuid']\n",
    "\n",
    "data = processed_trace['match']\n",
    "\n",
    "for segment in data['segments']:\n",
    "    seconds = segment['end_time'] - segment['start_time']\n",
    "    length = segment['length']\n",
    "    print str(segment['segment_id']) + \": \" + str(round((length / seconds) * 3.6, 2)) + \" km/h\"\n"
   ]
  },
  {
   "cell_type": "code",
   "execution_count": null,
   "metadata": {
    "collapsed": true,
    "deletable": true,
    "editable": true
   },
   "outputs": [],
   "source": []
  }
 ],
 "metadata": {
  "kernelspec": {
   "display_name": "Python 2",
   "language": "python",
   "name": "python2"
  },
  "language_info": {
   "codemirror_mode": {
    "name": "ipython",
    "version": 2
   },
   "file_extension": ".py",
   "mimetype": "text/x-python",
   "name": "python",
   "nbconvert_exporter": "python",
   "pygments_lexer": "ipython2",
   "version": "2.7.12"
  }
 },
 "nbformat": 4,
 "nbformat_minor": 2
}
