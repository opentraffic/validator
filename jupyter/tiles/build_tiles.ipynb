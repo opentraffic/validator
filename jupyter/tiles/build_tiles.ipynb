{
 "cells": [
  {
   "cell_type": "code",
   "execution_count": 10,
   "metadata": {
    "collapsed": false
   },
   "outputs": [
    {
     "name": "stdout",
     "output_type": "stream",
     "text": [
      "Downloading: https://s3.amazonaws.com/metro-extracts.mapzen.com/manila_philippines.osm.pbf\n",
      "Building tile config...\n",
      "\n",
      "Buiding base tiles...\n"
     ]
    },
    {
     "data": {
      "text/plain": [
       "0"
      ]
     },
     "execution_count": 10,
     "metadata": {},
     "output_type": "execute_result"
    }
   ],
   "source": [
    "import os\n",
    "import shutil\n",
    "\n",
    "city = \"manila\"\n",
    "extract = \"https://s3.amazonaws.com/metro-extracts.mapzen.com/manila_philippines.osm.pbf\"\n",
    "output_data_dir = \"/data/tiles/\"\n",
    "\n",
    "\n",
    "# need to use local file system to build tiles -- docker mounted volumes are too slow\n",
    "tmp_build_dir = \"/tmp/tiles/\"\n",
    "\n",
    "city_data_dir = tmp_build_dir + city + \"/\"\n",
    "\n",
    "if not os.path.exists(output_data_dir):\n",
    "    os.makedirs(output_data_dir)\n",
    "\n",
    "output_tar = output_data_dir + city + \".tar\"\n",
    "    \n",
    "if os.path.exists(output_tar):\n",
    "    print \"Output file \" + output_tar + \" already exists.\"\n",
    "    break;\n",
    "\n",
    "\n",
    "if os.path.exists(city_data_dir):\n",
    "    shutil.rmtree(city_data_dir)\n",
    "    \n",
    "os.makedirs(city_data_dir)\n",
    "os.chdir(city_data_dir)\n",
    "\n",
    "# download some data and make tiles out of it\n",
    "print \"Downloading: \" + extract\n",
    "os.system(\"wget \" + extract + \" -O extract.pbf\")\n",
    "\n",
    "#get the config and setup for it\n",
    "print \"Building tile config...\"\n",
    "os.system(\"valhalla_build_config --mjolnir-tile-dir \" + city_data_dir + \"valhalla_tiles --mjolnir-tile-extract \" + city_data_dir + \"valhalla_tiles.tar --mjolnir-timezone \" + city_data_dir + \"valhalla_tiles/timezones.sqlite --mjolnir-admin \" + city_data_dir + \"valhalla_tiles/admins.sqlite > \" + city_data_dir + \"valhalla.json\")\n",
    "print\n",
    "\n",
    "#build routing tiles\n",
    "print \"Buiding base tiles...\"\n",
    "os.system(\"valhalla_build_tiles -c valhalla.json extract.pbf\")\n",
    "\n",
    "#tar it up for running the server\n",
    "print \"Buiding tar of tiles...\"\n",
    "os.system(\"find valhalla_tiles | sort -n | tar cf tiles.tar --no-recursion -T -\")\n",
    "\n",
    "#make some osmlr segments\n",
    "print \"Buiding OSMLR tiles...\"\n",
    "os.system(\"LD_LIBRARY_PATH=/usr/lib:/usr/local/lib osmlr -m 1 -T osmlr_tiles valhalla.json\")\n",
    "\n",
    "# -j 2 uses two threads for association process (use more or fewer as available cores permit\n",
    "print \"Associate OSMLR tiles...\"\n",
    "os.system(\"valhalla_associate_segments -t osmlr_tiles -j 2 --config valhalla.json\")\n",
    "\n",
    "# rebuild tar with traffic segement associated tiles\n",
    "print \"Buiding osmlr tile tar...\"\n",
    "os.system(\"find valhalla_tiles | sort -n | tar rf tiles.tar --no-recursion -T -\")\n",
    "\n",
    "print \"Moving built tar tile to \" + output_tar\n",
    "os.rename(city_data_dir + tiles.tar, output_tar)\n"
   ]
  },
  {
   "cell_type": "code",
   "execution_count": null,
   "metadata": {
    "collapsed": true
   },
   "outputs": [],
   "source": []
  }
 ],
 "metadata": {
  "kernelspec": {
   "display_name": "Python 2",
   "language": "python",
   "name": "python2"
  },
  "language_info": {
   "codemirror_mode": {
    "name": "ipython",
    "version": 2
   },
   "file_extension": ".py",
   "mimetype": "text/x-python",
   "name": "python",
   "nbconvert_exporter": "python",
   "pygments_lexer": "ipython2",
   "version": "2.7.13"
  }
 },
 "nbformat": 4,
 "nbformat_minor": 2
}
